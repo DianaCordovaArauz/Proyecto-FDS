{
 "cells": [
  {
   "cell_type": "code",
   "execution_count": 1,
   "metadata": {},
   "outputs": [],
   "source": [
    "import sqlite3\n",
    "import pandas as pd\n",
    "import os\n",
    "\n"
   ]
  },
  {
   "cell_type": "code",
   "execution_count": 3,
   "metadata": {},
   "outputs": [
    {
     "data": {
      "text/html": [
       "<div>\n",
       "<style scoped>\n",
       "    .dataframe tbody tr th:only-of-type {\n",
       "        vertical-align: middle;\n",
       "    }\n",
       "\n",
       "    .dataframe tbody tr th {\n",
       "        vertical-align: top;\n",
       "    }\n",
       "\n",
       "    .dataframe thead th {\n",
       "        text-align: right;\n",
       "    }\n",
       "</style>\n",
       "<table border=\"1\" class=\"dataframe\">\n",
       "  <thead>\n",
       "    <tr style=\"text-align: right;\">\n",
       "      <th></th>\n",
       "      <th>cid</th>\n",
       "      <th>name</th>\n",
       "      <th>type</th>\n",
       "      <th>notnull</th>\n",
       "      <th>dflt_value</th>\n",
       "      <th>pk</th>\n",
       "    </tr>\n",
       "  </thead>\n",
       "  <tbody>\n",
       "    <tr>\n",
       "      <th>0</th>\n",
       "      <td>0</td>\n",
       "      <td>provincia_x</td>\n",
       "      <td>TEXT</td>\n",
       "      <td>0</td>\n",
       "      <td>None</td>\n",
       "      <td>0</td>\n",
       "    </tr>\n",
       "    <tr>\n",
       "      <th>1</th>\n",
       "      <td>1</td>\n",
       "      <td>canton_id</td>\n",
       "      <td>INTEGER</td>\n",
       "      <td>0</td>\n",
       "      <td>None</td>\n",
       "      <td>0</td>\n",
       "    </tr>\n",
       "    <tr>\n",
       "      <th>2</th>\n",
       "      <td>2</td>\n",
       "      <td>nro_vivienda</td>\n",
       "      <td>REAL</td>\n",
       "      <td>0</td>\n",
       "      <td>None</td>\n",
       "      <td>0</td>\n",
       "    </tr>\n",
       "    <tr>\n",
       "      <th>3</th>\n",
       "      <td>3</td>\n",
       "      <td>tipo_via</td>\n",
       "      <td>INTEGER</td>\n",
       "      <td>0</td>\n",
       "      <td>None</td>\n",
       "      <td>0</td>\n",
       "    </tr>\n",
       "    <tr>\n",
       "      <th>4</th>\n",
       "      <td>4</td>\n",
       "      <td>tipo_vivienda</td>\n",
       "      <td>TEXT</td>\n",
       "      <td>0</td>\n",
       "      <td>None</td>\n",
       "      <td>0</td>\n",
       "    </tr>\n",
       "    <tr>\n",
       "      <th>...</th>\n",
       "      <td>...</td>\n",
       "      <td>...</td>\n",
       "      <td>...</td>\n",
       "      <td>...</td>\n",
       "      <td>...</td>\n",
       "      <td>...</td>\n",
       "    </tr>\n",
       "    <tr>\n",
       "      <th>220</th>\n",
       "      <td>220</td>\n",
       "      <td>deficit_habitacional_label_Dignas o aceptables</td>\n",
       "      <td>INTEGER</td>\n",
       "      <td>0</td>\n",
       "      <td>None</td>\n",
       "      <td>0</td>\n",
       "    </tr>\n",
       "    <tr>\n",
       "      <th>221</th>\n",
       "      <td>221</td>\n",
       "      <td>deficit_habitacional_label_Déficit cualitativo...</td>\n",
       "      <td>INTEGER</td>\n",
       "      <td>0</td>\n",
       "      <td>None</td>\n",
       "      <td>0</td>\n",
       "    </tr>\n",
       "    <tr>\n",
       "      <th>222</th>\n",
       "      <td>222</td>\n",
       "      <td>deficit_habitacional_label_Déficit cuantitativ...</td>\n",
       "      <td>INTEGER</td>\n",
       "      <td>0</td>\n",
       "      <td>None</td>\n",
       "      <td>0</td>\n",
       "    </tr>\n",
       "    <tr>\n",
       "      <th>223</th>\n",
       "      <td>223</td>\n",
       "      <td>registro_imputado_vivienda_label_No</td>\n",
       "      <td>INTEGER</td>\n",
       "      <td>0</td>\n",
       "      <td>None</td>\n",
       "      <td>0</td>\n",
       "    </tr>\n",
       "    <tr>\n",
       "      <th>224</th>\n",
       "      <td>224</td>\n",
       "      <td>registro_imputado_vivienda_label_Sí</td>\n",
       "      <td>INTEGER</td>\n",
       "      <td>0</td>\n",
       "      <td>None</td>\n",
       "      <td>0</td>\n",
       "    </tr>\n",
       "  </tbody>\n",
       "</table>\n",
       "<p>225 rows × 6 columns</p>\n",
       "</div>"
      ],
      "text/plain": [
       "     cid                                               name     type  notnull  \\\n",
       "0      0                                        provincia_x     TEXT        0   \n",
       "1      1                                          canton_id  INTEGER        0   \n",
       "2      2                                       nro_vivienda     REAL        0   \n",
       "3      3                                           tipo_via  INTEGER        0   \n",
       "4      4                                      tipo_vivienda     TEXT        0   \n",
       "..   ...                                                ...      ...      ...   \n",
       "220  220     deficit_habitacional_label_Dignas o aceptables  INTEGER        0   \n",
       "221  221  deficit_habitacional_label_Déficit cualitativo...  INTEGER        0   \n",
       "222  222  deficit_habitacional_label_Déficit cuantitativ...  INTEGER        0   \n",
       "223  223                registro_imputado_vivienda_label_No  INTEGER        0   \n",
       "224  224                registro_imputado_vivienda_label_Sí  INTEGER        0   \n",
       "\n",
       "    dflt_value  pk  \n",
       "0         None   0  \n",
       "1         None   0  \n",
       "2         None   0  \n",
       "3         None   0  \n",
       "4         None   0  \n",
       "..         ...  ..  \n",
       "220       None   0  \n",
       "221       None   0  \n",
       "222       None   0  \n",
       "223       None   0  \n",
       "224       None   0  \n",
       "\n",
       "[225 rows x 6 columns]"
      ]
     },
     "execution_count": 3,
     "metadata": {},
     "output_type": "execute_result"
    }
   ],
   "source": [
    "pd.read_sql_query(\"PRAGMA table_info(df_encoded);\", conn)\n"
   ]
  },
  {
   "cell_type": "code",
   "execution_count": 13,
   "metadata": {},
   "outputs": [
    {
     "name": "stdout",
     "output_type": "stream",
     "text": [
      "Empty DataFrame\n",
      "Columns: [provincia_x, canton_id, nro_vivienda, tipo_via, tipo_vivienda, ocup_viv_part, ocup_viv_colect, mat_techo, estado_techo, mat_paredes, estado_paredes, mat_piso, estado_piso, tipo_agua, fuente_agua, tipo_sanitario, electricidad_red, otra_fuente_elec, eliminacion_basura, gasto_compartido, nro_hogares, zona_x, canton_x, id_vivienda_x, total_personas_x, ocup_viv_part_r, nro_cuartos_r, deficit_habitacional, registro_imputado_vivienda, mat_techo_labels, mat_techo_desc, provincia_y, nro_hogar, espacio_cocina, tiene_inodoro, tiene_ducha, combustible_cocina, fuente_agua_bebida, separa_basura_reciclaje, tiene_perros, tiene_gatos, tenencia_vivienda, tiene_telefono_fijo, tiene_celular, tiene_tv_pagada, tiene_internet, tiene_computadora, tiene_refrigeradora, tiene_lavadora, tiene_secadora, tiene_microondas, tiene_extractora_olores, tiene_auto, tiene_moto, fallecidos_ultimos_3_anios, emigrantes_desde_2010, nro_emigrantes, total_hombres, total_mujeres, zona_y, canton_y, id_hogar, nro_cuartos_con_sala_comedor, registro_imputado_hogar, espacio_cocina_label_No, espacio_cocina_label_Sí, tiene_inodoro_label_Compartido con varios hogares, tiene_inodoro_label_De uso exclusivo del hogar, tiene_inodoro_label_No tiene, tiene_ducha_label_Compartido con varios hogares, tiene_ducha_label_De uso exclusivo del hogar, tiene_ducha_label_No tiene, combustible_cocina_label_Biogás (residuos vegetales y/o animales, etc.), combustible_cocina_label_Electricidad, combustible_cocina_label_Gas centralizado (por tubería), combustible_cocina_label_Gas de tanque o cilindro, combustible_cocina_label_Leña o carbón, combustible_cocina_label_Ninguno (no cocina), combustible_cocina_label_Otro (Ej: gasolina, kerex, diésel, etc.), fuente_agua_bebida_label_La beben, tal como llega al hogar, fuente_agua_bebida_label_La compran (agua envasada en bidón, botella o funda), fuente_agua_bebida_label_La filtran (colocan filtros en el grifo o usan purificadores), fuente_agua_bebida_label_La hierven, fuente_agua_bebida_label_Le ponen cloro, fuente_agua_bebida_label_Realizan otro tratamiento, separa_basura_reciclaje_label_No, separa_basura_reciclaje_label_Sí, tiene_perros_label_No, tiene_perros_label_Sí, tiene_gatos_label_No, tiene_gatos_label_Sí, tenencia_vivienda_label_Arrendada/anticresis, tenencia_vivienda_label_Por servicios, tenencia_vivienda_label_Prestada o cedida (no paga), tenencia_vivienda_label_Propia (regalada, donada, heredada o por posesión), tenencia_vivienda_label_Propia y la está pagando, tenencia_vivienda_label_Propia y totalmente pagada, tiene_telefono_fijo_label_No, tiene_telefono_fijo_label_Sí, tiene_celular_label_No, ...]\n",
      "Index: []\n"
     ]
    }
   ],
   "source": [
    "\n",
    "\n",
    "# Connect to your database\n",
    "conn = sqlite3.connect('/Users/dicordova/Proyecto-FDS/data/nueva_base.db')\n",
    "\n",
    "query = \"SELECT * FROM df_encoded LIMIT 5\"\n",
    "pd.read_sql_query(query, conn)\n",
    "\n",
    "# Load the filtered data into a DataFrame\n",
    "cotopaxi_df = pd.read_sql_query(query, conn)\n",
    "\n",
    "# Preview the result\n",
    "print(cotopaxi_df.head())\n",
    "\n",
    "conn.close()\n"
   ]
  },
  {
   "cell_type": "code",
   "execution_count": 5,
   "metadata": {},
   "outputs": [
    {
     "name": "stdout",
     "output_type": "stream",
     "text": [
      "                                                column   dtype\n",
      "0                                          provincia_x  object\n",
      "142                              tipo_via_label_Pasaje  object\n",
      "143                             tipo_via_label_Sendero  object\n",
      "144      ocup_viv_part_label_De temporada o vacacional  object\n",
      "145  ocup_viv_part_label_Ocupada con personas ausentes  object\n",
      "..                                                 ...     ...\n",
      "79   fuente_agua_bebida_label_La beben, tal como ll...  object\n",
      "80   fuente_agua_bebida_label_La compran (agua enva...  object\n",
      "81   fuente_agua_bebida_label_La filtran (colocan f...  object\n",
      "111                            tiene_secadora_label_No  object\n",
      "224                registro_imputado_vivienda_label_Sí  object\n",
      "\n",
      "[225 rows x 2 columns]\n"
     ]
    }
   ],
   "source": [
    "# Show all columns in output\n",
    "pd.set_option('display.max_columns', None)\n",
    "pd.set_option('display.expand_frame_repr', True)\n",
    "\n",
    "cols_info = pd.DataFrame({\n",
    "    'column': cotopaxi_df.columns,\n",
    "    'dtype': cotopaxi_df.dtypes.values\n",
    "})\n",
    "print(cols_info.sort_values(by='dtype'))\n"
   ]
  },
  {
   "cell_type": "code",
   "execution_count": 6,
   "metadata": {},
   "outputs": [],
   "source": [
    "with open('columns.txt', 'w') as f:\n",
    "    for col in cotopaxi_df.columns:\n",
    "        f.write(col + '\\n')\n"
   ]
  },
  {
   "cell_type": "markdown",
   "metadata": {},
   "source": [
    "Creamos un file de las columnas porque son muchas y el output sale truncado cada vez que intentamos explorarla para familiarizarnos con los nombres. "
   ]
  },
  {
   "cell_type": "code",
   "execution_count": 7,
   "metadata": {},
   "outputs": [
    {
     "name": "stdout",
     "output_type": "stream",
     "text": [
      "                                           Column Name Data Type  \\\n",
      "0                                          provincia_x    object   \n",
      "1                                            canton_id    object   \n",
      "2                                         nro_vivienda    object   \n",
      "3                                             tipo_via    object   \n",
      "4                                        tipo_vivienda    object   \n",
      "..                                                 ...       ...   \n",
      "220     deficit_habitacional_label_Dignas o aceptables    object   \n",
      "221  deficit_habitacional_label_Déficit cualitativo...    object   \n",
      "222  deficit_habitacional_label_Déficit cuantitativ...    object   \n",
      "223                registro_imputado_vivienda_label_No    object   \n",
      "224                registro_imputado_vivienda_label_Sí    object   \n",
      "\n",
      "     Missing Values  \n",
      "0                 0  \n",
      "1                 0  \n",
      "2                 0  \n",
      "3                 0  \n",
      "4                 0  \n",
      "..              ...  \n",
      "220               0  \n",
      "221               0  \n",
      "222               0  \n",
      "223               0  \n",
      "224               0  \n",
      "\n",
      "[225 rows x 3 columns]\n"
     ]
    }
   ],
   "source": [
    "\n",
    "# Create the summary DataFrame\n",
    "col_info = pd.DataFrame({\n",
    "    'Column Name': cotopaxi_df.columns,\n",
    "    'Data Type': cotopaxi_df.dtypes.values,\n",
    "    'Missing Values': cotopaxi_df.isna().sum().values\n",
    "})\n",
    "\n",
    "# Save it to a text file (tab-separated for readability)\n",
    "col_info.to_csv('columns_info.txt', sep='\\t', index=False)\n",
    "\n",
    "# Optional: Preview in notebook\n",
    "print(col_info)\n"
   ]
  },
  {
   "cell_type": "code",
   "execution_count": 8,
   "metadata": {},
   "outputs": [],
   "source": [
    "cols_a_remover = [col for col in cotopaxi_df.columns if (\n",
    "    col.startswith('nro_cuartos_r_label_') or\n",
    "    col.startswith('nro_emigrantes_label') or\n",
    "    col.startswith('nro_hogar_label') or\n",
    "    col.startswith('separa_basura') or\n",
    "    col.startswith('fallecidos_ultimos_3_anios_label')\n",
    ")]\n",
    "\n",
    "cotopaxi_df = cotopaxi_df.drop(columns=cols_a_remover)\n"
   ]
  },
  {
   "cell_type": "markdown",
   "metadata": {},
   "source": [
    "Después de sacar ciertas columnas, vamos a imputar los valores faltantes de las variables numéricas útiles para nuestro índice con KNN imputer. "
   ]
  },
  {
   "cell_type": "code",
   "execution_count": 9,
   "metadata": {},
   "outputs": [],
   "source": [
    "from sklearn.impute import KNNImputer\n",
    "\n",
    "def imputar_knn_variables(cotopaxi_df, variables, n_neighbors=5):\n",
    "    \"\"\"\n",
    "    Imputes missing values in the specified numerical columns using KNN.\n",
    "\n",
    "    Parameters:\n",
    "    - cotopaxi_df: pandas DataFrame\n",
    "    - variables: list of column names to impute\n",
    "    - n_neighbors: number of neighbors for KNNImputer (default: 5)\n",
    "\n",
    "    Returns:\n",
    "    - A DataFrame with the selected variables imputed.\n",
    "    \"\"\"\n",
    "    cotopaxi_df = cotopaxi_df.copy()\n",
    "    \n",
    "    # Ensure all columns exist\n",
    "    missing_cols = [col for col in variables if col not in cotopaxi_df.columns]\n",
    "    if missing_cols:\n",
    "        raise ValueError(f\"The following columns are not in the DataFrame: {missing_cols}\")\n",
    "    \n",
    "    # Apply KNN imputation\n",
    "    imputer = KNNImputer(n_neighbors=n_neighbors)\n",
    "    cotopaxi_df[variables] = imputer.fit_transform(cotopaxi_df[variables])\n",
    "    \n",
    "    return cotopaxi_df\n",
    "\n",
    "\n",
    "\n"
   ]
  },
  {
   "cell_type": "code",
   "execution_count": 10,
   "metadata": {},
   "outputs": [
    {
     "ename": "ValueError",
     "evalue": "Found array with 0 sample(s) (shape=(0, 5)) while a minimum of 1 is required by KNNImputer.",
     "output_type": "error",
     "traceback": [
      "\u001b[31m---------------------------------------------------------------------------\u001b[39m",
      "\u001b[31mValueError\u001b[39m                                Traceback (most recent call last)",
      "\u001b[36mCell\u001b[39m\u001b[36m \u001b[39m\u001b[32mIn[10]\u001b[39m\u001b[32m, line 9\u001b[39m\n\u001b[32m      1\u001b[39m variables_to_impute = [\n\u001b[32m      2\u001b[39m     \u001b[33m'\u001b[39m\u001b[33mnro_emigrantes\u001b[39m\u001b[33m'\u001b[39m,\n\u001b[32m      3\u001b[39m     \u001b[33m'\u001b[39m\u001b[33mtotal_personas_x\u001b[39m\u001b[33m'\u001b[39m,\n\u001b[32m   (...)\u001b[39m\u001b[32m      6\u001b[39m     \u001b[33m'\u001b[39m\u001b[33mtotal_mujeres\u001b[39m\u001b[33m'\u001b[39m\n\u001b[32m      7\u001b[39m ]\n\u001b[32m----> \u001b[39m\u001b[32m9\u001b[39m cotopaxi_df = \u001b[43mimputar_knn_variables\u001b[49m\u001b[43m(\u001b[49m\u001b[43mcotopaxi_df\u001b[49m\u001b[43m,\u001b[49m\u001b[43m \u001b[49m\u001b[43mvariables_to_impute\u001b[49m\u001b[43m,\u001b[49m\u001b[43m \u001b[49m\u001b[43mn_neighbors\u001b[49m\u001b[43m=\u001b[49m\u001b[32;43m5\u001b[39;49m\u001b[43m)\u001b[49m\n",
      "\u001b[36mCell\u001b[39m\u001b[36m \u001b[39m\u001b[32mIn[9]\u001b[39m\u001b[32m, line 24\u001b[39m, in \u001b[36mimputar_knn_variables\u001b[39m\u001b[34m(cotopaxi_df, variables, n_neighbors)\u001b[39m\n\u001b[32m     22\u001b[39m \u001b[38;5;66;03m# Apply KNN imputation\u001b[39;00m\n\u001b[32m     23\u001b[39m imputer = KNNImputer(n_neighbors=n_neighbors)\n\u001b[32m---> \u001b[39m\u001b[32m24\u001b[39m cotopaxi_df[variables] = \u001b[43mimputer\u001b[49m\u001b[43m.\u001b[49m\u001b[43mfit_transform\u001b[49m\u001b[43m(\u001b[49m\u001b[43mcotopaxi_df\u001b[49m\u001b[43m[\u001b[49m\u001b[43mvariables\u001b[49m\u001b[43m]\u001b[49m\u001b[43m)\u001b[49m\n\u001b[32m     26\u001b[39m \u001b[38;5;28;01mreturn\u001b[39;00m cotopaxi_df\n",
      "\u001b[36mFile \u001b[39m\u001b[32m~/opt/anaconda3/envs/DataScience/lib/python3.12/site-packages/sklearn/utils/_set_output.py:319\u001b[39m, in \u001b[36m_wrap_method_output.<locals>.wrapped\u001b[39m\u001b[34m(self, X, *args, **kwargs)\u001b[39m\n\u001b[32m    317\u001b[39m \u001b[38;5;129m@wraps\u001b[39m(f)\n\u001b[32m    318\u001b[39m \u001b[38;5;28;01mdef\u001b[39;00m\u001b[38;5;250m \u001b[39m\u001b[34mwrapped\u001b[39m(\u001b[38;5;28mself\u001b[39m, X, *args, **kwargs):\n\u001b[32m--> \u001b[39m\u001b[32m319\u001b[39m     data_to_wrap = \u001b[43mf\u001b[49m\u001b[43m(\u001b[49m\u001b[38;5;28;43mself\u001b[39;49m\u001b[43m,\u001b[49m\u001b[43m \u001b[49m\u001b[43mX\u001b[49m\u001b[43m,\u001b[49m\u001b[43m \u001b[49m\u001b[43m*\u001b[49m\u001b[43margs\u001b[49m\u001b[43m,\u001b[49m\u001b[43m \u001b[49m\u001b[43m*\u001b[49m\u001b[43m*\u001b[49m\u001b[43mkwargs\u001b[49m\u001b[43m)\u001b[49m\n\u001b[32m    320\u001b[39m     \u001b[38;5;28;01mif\u001b[39;00m \u001b[38;5;28misinstance\u001b[39m(data_to_wrap, \u001b[38;5;28mtuple\u001b[39m):\n\u001b[32m    321\u001b[39m         \u001b[38;5;66;03m# only wrap the first output for cross decomposition\u001b[39;00m\n\u001b[32m    322\u001b[39m         return_tuple = (\n\u001b[32m    323\u001b[39m             _wrap_data_with_container(method, data_to_wrap[\u001b[32m0\u001b[39m], X, \u001b[38;5;28mself\u001b[39m),\n\u001b[32m    324\u001b[39m             *data_to_wrap[\u001b[32m1\u001b[39m:],\n\u001b[32m    325\u001b[39m         )\n",
      "\u001b[36mFile \u001b[39m\u001b[32m~/opt/anaconda3/envs/DataScience/lib/python3.12/site-packages/sklearn/base.py:918\u001b[39m, in \u001b[36mTransformerMixin.fit_transform\u001b[39m\u001b[34m(self, X, y, **fit_params)\u001b[39m\n\u001b[32m    903\u001b[39m         warnings.warn(\n\u001b[32m    904\u001b[39m             (\n\u001b[32m    905\u001b[39m                 \u001b[33mf\u001b[39m\u001b[33m\"\u001b[39m\u001b[33mThis object (\u001b[39m\u001b[38;5;132;01m{\u001b[39;00m\u001b[38;5;28mself\u001b[39m.\u001b[34m__class__\u001b[39m.\u001b[34m__name__\u001b[39m\u001b[38;5;132;01m}\u001b[39;00m\u001b[33m) has a `transform`\u001b[39m\u001b[33m\"\u001b[39m\n\u001b[32m   (...)\u001b[39m\u001b[32m    913\u001b[39m             \u001b[38;5;167;01mUserWarning\u001b[39;00m,\n\u001b[32m    914\u001b[39m         )\n\u001b[32m    916\u001b[39m \u001b[38;5;28;01mif\u001b[39;00m y \u001b[38;5;129;01mis\u001b[39;00m \u001b[38;5;28;01mNone\u001b[39;00m:\n\u001b[32m    917\u001b[39m     \u001b[38;5;66;03m# fit method of arity 1 (unsupervised transformation)\u001b[39;00m\n\u001b[32m--> \u001b[39m\u001b[32m918\u001b[39m     \u001b[38;5;28;01mreturn\u001b[39;00m \u001b[38;5;28;43mself\u001b[39;49m\u001b[43m.\u001b[49m\u001b[43mfit\u001b[49m\u001b[43m(\u001b[49m\u001b[43mX\u001b[49m\u001b[43m,\u001b[49m\u001b[43m \u001b[49m\u001b[43m*\u001b[49m\u001b[43m*\u001b[49m\u001b[43mfit_params\u001b[49m\u001b[43m)\u001b[49m.transform(X)\n\u001b[32m    919\u001b[39m \u001b[38;5;28;01melse\u001b[39;00m:\n\u001b[32m    920\u001b[39m     \u001b[38;5;66;03m# fit method of arity 2 (supervised transformation)\u001b[39;00m\n\u001b[32m    921\u001b[39m     \u001b[38;5;28;01mreturn\u001b[39;00m \u001b[38;5;28mself\u001b[39m.fit(X, y, **fit_params).transform(X)\n",
      "\u001b[36mFile \u001b[39m\u001b[32m~/opt/anaconda3/envs/DataScience/lib/python3.12/site-packages/sklearn/base.py:1389\u001b[39m, in \u001b[36m_fit_context.<locals>.decorator.<locals>.wrapper\u001b[39m\u001b[34m(estimator, *args, **kwargs)\u001b[39m\n\u001b[32m   1382\u001b[39m     estimator._validate_params()\n\u001b[32m   1384\u001b[39m \u001b[38;5;28;01mwith\u001b[39;00m config_context(\n\u001b[32m   1385\u001b[39m     skip_parameter_validation=(\n\u001b[32m   1386\u001b[39m         prefer_skip_nested_validation \u001b[38;5;129;01mor\u001b[39;00m global_skip_validation\n\u001b[32m   1387\u001b[39m     )\n\u001b[32m   1388\u001b[39m ):\n\u001b[32m-> \u001b[39m\u001b[32m1389\u001b[39m     \u001b[38;5;28;01mreturn\u001b[39;00m \u001b[43mfit_method\u001b[49m\u001b[43m(\u001b[49m\u001b[43mestimator\u001b[49m\u001b[43m,\u001b[49m\u001b[43m \u001b[49m\u001b[43m*\u001b[49m\u001b[43margs\u001b[49m\u001b[43m,\u001b[49m\u001b[43m \u001b[49m\u001b[43m*\u001b[49m\u001b[43m*\u001b[49m\u001b[43mkwargs\u001b[49m\u001b[43m)\u001b[49m\n",
      "\u001b[36mFile \u001b[39m\u001b[32m~/opt/anaconda3/envs/DataScience/lib/python3.12/site-packages/sklearn/impute/_knn.py:237\u001b[39m, in \u001b[36mKNNImputer.fit\u001b[39m\u001b[34m(self, X, y)\u001b[39m\n\u001b[32m    234\u001b[39m \u001b[38;5;28;01melse\u001b[39;00m:\n\u001b[32m    235\u001b[39m     ensure_all_finite = \u001b[33m\"\u001b[39m\u001b[33mallow-nan\u001b[39m\u001b[33m\"\u001b[39m\n\u001b[32m--> \u001b[39m\u001b[32m237\u001b[39m X = \u001b[43mvalidate_data\u001b[49m\u001b[43m(\u001b[49m\n\u001b[32m    238\u001b[39m \u001b[43m    \u001b[49m\u001b[38;5;28;43mself\u001b[39;49m\u001b[43m,\u001b[49m\n\u001b[32m    239\u001b[39m \u001b[43m    \u001b[49m\u001b[43mX\u001b[49m\u001b[43m,\u001b[49m\n\u001b[32m    240\u001b[39m \u001b[43m    \u001b[49m\u001b[43maccept_sparse\u001b[49m\u001b[43m=\u001b[49m\u001b[38;5;28;43;01mFalse\u001b[39;49;00m\u001b[43m,\u001b[49m\n\u001b[32m    241\u001b[39m \u001b[43m    \u001b[49m\u001b[43mdtype\u001b[49m\u001b[43m=\u001b[49m\u001b[43mFLOAT_DTYPES\u001b[49m\u001b[43m,\u001b[49m\n\u001b[32m    242\u001b[39m \u001b[43m    \u001b[49m\u001b[43mensure_all_finite\u001b[49m\u001b[43m=\u001b[49m\u001b[43mensure_all_finite\u001b[49m\u001b[43m,\u001b[49m\n\u001b[32m    243\u001b[39m \u001b[43m    \u001b[49m\u001b[43mcopy\u001b[49m\u001b[43m=\u001b[49m\u001b[38;5;28;43mself\u001b[39;49m\u001b[43m.\u001b[49m\u001b[43mcopy\u001b[49m\u001b[43m,\u001b[49m\n\u001b[32m    244\u001b[39m \u001b[43m\u001b[49m\u001b[43m)\u001b[49m\n\u001b[32m    246\u001b[39m \u001b[38;5;28mself\u001b[39m._fit_X = X\n\u001b[32m    247\u001b[39m \u001b[38;5;28mself\u001b[39m._mask_fit_X = _get_mask(\u001b[38;5;28mself\u001b[39m._fit_X, \u001b[38;5;28mself\u001b[39m.missing_values)\n",
      "\u001b[36mFile \u001b[39m\u001b[32m~/opt/anaconda3/envs/DataScience/lib/python3.12/site-packages/sklearn/utils/validation.py:2944\u001b[39m, in \u001b[36mvalidate_data\u001b[39m\u001b[34m(_estimator, X, y, reset, validate_separately, skip_check_array, **check_params)\u001b[39m\n\u001b[32m   2942\u001b[39m         out = X, y\n\u001b[32m   2943\u001b[39m \u001b[38;5;28;01melif\u001b[39;00m \u001b[38;5;129;01mnot\u001b[39;00m no_val_X \u001b[38;5;129;01mand\u001b[39;00m no_val_y:\n\u001b[32m-> \u001b[39m\u001b[32m2944\u001b[39m     out = \u001b[43mcheck_array\u001b[49m\u001b[43m(\u001b[49m\u001b[43mX\u001b[49m\u001b[43m,\u001b[49m\u001b[43m \u001b[49m\u001b[43minput_name\u001b[49m\u001b[43m=\u001b[49m\u001b[33;43m\"\u001b[39;49m\u001b[33;43mX\u001b[39;49m\u001b[33;43m\"\u001b[39;49m\u001b[43m,\u001b[49m\u001b[43m \u001b[49m\u001b[43m*\u001b[49m\u001b[43m*\u001b[49m\u001b[43mcheck_params\u001b[49m\u001b[43m)\u001b[49m\n\u001b[32m   2945\u001b[39m \u001b[38;5;28;01melif\u001b[39;00m no_val_X \u001b[38;5;129;01mand\u001b[39;00m \u001b[38;5;129;01mnot\u001b[39;00m no_val_y:\n\u001b[32m   2946\u001b[39m     out = _check_y(y, **check_params)\n",
      "\u001b[36mFile \u001b[39m\u001b[32m~/opt/anaconda3/envs/DataScience/lib/python3.12/site-packages/sklearn/utils/validation.py:1130\u001b[39m, in \u001b[36mcheck_array\u001b[39m\u001b[34m(array, accept_sparse, accept_large_sparse, dtype, order, copy, force_writeable, force_all_finite, ensure_all_finite, ensure_non_negative, ensure_2d, allow_nd, ensure_min_samples, ensure_min_features, estimator, input_name)\u001b[39m\n\u001b[32m   1128\u001b[39m     n_samples = _num_samples(array)\n\u001b[32m   1129\u001b[39m     \u001b[38;5;28;01mif\u001b[39;00m n_samples < ensure_min_samples:\n\u001b[32m-> \u001b[39m\u001b[32m1130\u001b[39m         \u001b[38;5;28;01mraise\u001b[39;00m \u001b[38;5;167;01mValueError\u001b[39;00m(\n\u001b[32m   1131\u001b[39m             \u001b[33m\"\u001b[39m\u001b[33mFound array with \u001b[39m\u001b[38;5;132;01m%d\u001b[39;00m\u001b[33m sample(s) (shape=\u001b[39m\u001b[38;5;132;01m%s\u001b[39;00m\u001b[33m) while a\u001b[39m\u001b[33m\"\u001b[39m\n\u001b[32m   1132\u001b[39m             \u001b[33m\"\u001b[39m\u001b[33m minimum of \u001b[39m\u001b[38;5;132;01m%d\u001b[39;00m\u001b[33m is required\u001b[39m\u001b[38;5;132;01m%s\u001b[39;00m\u001b[33m.\u001b[39m\u001b[33m\"\u001b[39m\n\u001b[32m   1133\u001b[39m             % (n_samples, array.shape, ensure_min_samples, context)\n\u001b[32m   1134\u001b[39m         )\n\u001b[32m   1136\u001b[39m \u001b[38;5;28;01mif\u001b[39;00m ensure_min_features > \u001b[32m0\u001b[39m \u001b[38;5;129;01mand\u001b[39;00m array.ndim == \u001b[32m2\u001b[39m:\n\u001b[32m   1137\u001b[39m     n_features = array.shape[\u001b[32m1\u001b[39m]\n",
      "\u001b[31mValueError\u001b[39m: Found array with 0 sample(s) (shape=(0, 5)) while a minimum of 1 is required by KNNImputer."
     ]
    }
   ],
   "source": [
    "variables_to_impute = [\n",
    "    'nro_emigrantes',\n",
    "    'total_personas_x',\n",
    "    'nro_cuartos_r',\n",
    "    'total_hombres',\n",
    "    'total_mujeres'\n",
    "]\n",
    "\n",
    "cotopaxi_df = imputar_knn_variables(cotopaxi_df, variables_to_impute, n_neighbors=5)"
   ]
  },
  {
   "cell_type": "code",
   "execution_count": 11,
   "metadata": {},
   "outputs": [
    {
     "data": {
      "text/plain": [
       "(0, 213)"
      ]
     },
     "execution_count": 11,
     "metadata": {},
     "output_type": "execute_result"
    }
   ],
   "source": [
    "cotopaxi_df.shape\n"
   ]
  },
  {
   "cell_type": "markdown",
   "metadata": {},
   "source": [
    "Despues de la imputacion, vamos a sacar todos los valores NAN. Esta opcion se toma porque al haber imputado los valores ausentes en las variables numericas, podríamos usar el modo para las categóricas, pero no hay suficiente investigación para justificar esta decisión. Por lo tanto para el ejercicio las borraremos. "
   ]
  },
  {
   "cell_type": "code",
   "execution_count": 10,
   "metadata": {},
   "outputs": [],
   "source": [
    "cotopaxi_df_clean = cotopaxi_df.dropna().reset_index(drop=True)\n"
   ]
  },
  {
   "cell_type": "markdown",
   "metadata": {},
   "source": [
    "Usamos KNN imputer para las variables numericas que usaremos en el modelo y en la construccion de variables compuestas. "
   ]
  },
  {
   "cell_type": "markdown",
   "metadata": {},
   "source": [
    "Creamos y combinamos varialbes en indicadores\n",
    "Empezamos con hacinamiento. "
   ]
  },
  {
   "cell_type": "code",
   "execution_count": 11,
   "metadata": {},
   "outputs": [
    {
     "name": "stdout",
     "output_type": "stream",
     "text": [
      "personas_por_cuarto\n",
      "1.000000     32849\n",
      "2.000000     14061\n",
      "0.500000     10702\n",
      "1.500000      9082\n",
      "0.666667      8662\n",
      "             ...  \n",
      "14.000000        1\n",
      "5.333333         1\n",
      "4.400000         1\n",
      "6.333333         1\n",
      "3.600000         1\n",
      "Name: count, Length: 72, dtype: int64\n"
     ]
    }
   ],
   "source": [
    "import numpy as np\n",
    "\n",
    "# Evita división por cero o nulos\n",
    "cotopaxi_df['personas_por_cuarto'] = cotopaxi_df['total_personas_x'] / cotopaxi_df['nro_cuartos_r']\n",
    "import numpy as np\n",
    "\n",
    "cotopaxi_df['personas_por_cuarto'] = cotopaxi_df['personas_por_cuarto'].replace([np.inf, -np.inf], np.nan)\n",
    "\n",
    "# Crear categoría de hacinamiento\n",
    "cotopaxi_df['hacinamiento'] = np.select(\n",
    "    [\n",
    "        cotopaxi_df['personas_por_cuarto'] <= 2,\n",
    "        (cotopaxi_df['personas_por_cuarto'] > 2) & (cotopaxi_df['personas_por_cuarto'] < 4),\n",
    "        cotopaxi_df['personas_por_cuarto'] >= 4\n",
    "    ],\n",
    "    ['Aceptable', 'Moderado', 'Severo'],\n",
    "    default='Desconocido'\n",
    ")\n",
    "\n",
    "print(cotopaxi_df['personas_por_cuarto'].value_counts())\n",
    "\n"
   ]
  },
  {
   "cell_type": "code",
   "execution_count": 12,
   "metadata": {},
   "outputs": [
    {
     "name": "stdout",
     "output_type": "stream",
     "text": [
      "['Aceptable' 'Moderado' 'Severo']\n"
     ]
    }
   ],
   "source": [
    "print(cotopaxi_df['hacinamiento'].unique())"
   ]
  },
  {
   "cell_type": "code",
   "execution_count": 13,
   "metadata": {},
   "outputs": [
    {
     "name": "stdout",
     "output_type": "stream",
     "text": [
      "  hacinamiento  hacinamiento_score\n",
      "0    Aceptable                 0.0\n",
      "1    Aceptable                 0.0\n",
      "2    Aceptable                 0.0\n",
      "3    Aceptable                 0.0\n",
      "4    Aceptable                 0.0\n",
      "5    Aceptable                 0.0\n",
      "6     Moderado                 1.0\n",
      "7    Aceptable                 0.0\n",
      "8    Aceptable                 0.0\n",
      "9    Aceptable                 0.0\n"
     ]
    }
   ],
   "source": [
    "hacinamiento_map = {'Aceptable': 0, 'Moderado': 1, 'Severo': 2, 'Desconocido': np.nan}\n",
    "cotopaxi_df['hacinamiento_score'] = cotopaxi_df['hacinamiento'].map(hacinamiento_map)\n",
    "print(cotopaxi_df[['hacinamiento', 'hacinamiento_score']].head(10))"
   ]
  },
  {
   "cell_type": "code",
   "execution_count": 14,
   "metadata": {},
   "outputs": [],
   "source": [
    "# Definir las columnas que indican vulnerabilidad\n",
    "cols_vulnerables = [\n",
    "    # Materiales precarios\n",
    "    'mat_techo_label_Palma, paja u hoja',\n",
    "    'mat_techo_label_Otro material',\n",
    "    'mat_paredes_label_Caña no revestida',\n",
    "    'mat_paredes_label_Adobe o tapia',\n",
    "    'mat_paredes_label_Otro material',\n",
    "    'mat_piso_label_Tierra',\n",
    "    'mat_piso_label_Caña sin tratar',\n",
    "    'mat_piso_label_Otro material',\n",
    "\n",
    "    # Estados \"Malos\"\n",
    "    'estado_techo_label_Malo',\n",
    "    'estado_paredes_label_Malo',\n",
    "    'estado_piso_label_Malo',\n",
    "\n",
    "    # Ocupación inestable\n",
    "    'ocup_viv_part_label_De temporada o vacacional',\n",
    "    'ocup_viv_part_label_Ocupada con personas ausentes',\n",
    "    'ocup_viv_colect_label_Sin residentes habituales'\n",
    "]\n",
    "\n",
    "# Asegurarnos de que las columnas existen\n",
    "cols_vulnerables = [col for col in cols_vulnerables if col in cotopaxi_df.columns]\n",
    "\n",
    "# Sumar como score\n",
    "cotopaxi_df['vulnerabilidad_vivienda'] = cotopaxi_df[cols_vulnerables].sum(axis=1)\n"
   ]
  },
  {
   "cell_type": "code",
   "execution_count": 15,
   "metadata": {},
   "outputs": [
    {
     "name": "stdout",
     "output_type": "stream",
     "text": [
      "   vulnerabilidad_vivienda nivel_vulnerabilidad_vivienda\n",
      "0                        0                          Baja\n",
      "1                        0                          Baja\n",
      "2                        0                          Baja\n",
      "3                        0                          Baja\n",
      "4                        0                          Baja\n",
      "5                        0                          Baja\n",
      "6                        0                          Baja\n",
      "7                        0                          Baja\n",
      "8                        0                          Baja\n",
      "9                        2                    Media-baja\n"
     ]
    }
   ],
   "source": [
    "cotopaxi_df['nivel_vulnerabilidad_vivienda'] = pd.cut(\n",
    "    cotopaxi_df['vulnerabilidad_vivienda'],\n",
    "    bins=[-1, 1, 3, 5, np.inf],\n",
    "    labels=['Baja', 'Media-baja', 'Media-alta', 'Alta']\n",
    ")\n",
    "print(cotopaxi_df[['vulnerabilidad_vivienda', 'nivel_vulnerabilidad_vivienda']].head(10))"
   ]
  },
  {
   "cell_type": "code",
   "execution_count": 16,
   "metadata": {},
   "outputs": [],
   "source": [
    "def remove_outliers_iqr(df, columns):\n",
    "    df_clean = df.copy()\n",
    "    for col in columns:\n",
    "        Q1 = df[col].quantile(0.25)\n",
    "        Q3 = df[col].quantile(0.75)\n",
    "        IQR = Q3 - Q1\n",
    "        lower_bound = Q1 - 1.5 * IQR\n",
    "        upper_bound = Q3 + 1.5 * IQR\n",
    "        df_clean = df_clean[(df_clean[col] >= lower_bound) & (df_clean[col] <= upper_bound)]\n",
    "    return df_clean.reset_index(drop=True)\n",
    "\n",
    "cotopaxi_df_clean = remove_outliers_iqr(cotopaxi_df, ['vulnerabilidad_vivienda', 'personas_por_cuarto', 'hacinamiento_score'])\n"
   ]
  },
  {
   "cell_type": "code",
   "execution_count": 17,
   "metadata": {},
   "outputs": [
    {
     "name": "stdout",
     "output_type": "stream",
     "text": [
      "Antes de remover outliers: (139362, 231)\n",
      "Después de remover outliers: (112114, 231)\n"
     ]
    }
   ],
   "source": [
    "print(\"Antes de remover outliers:\", cotopaxi_df.shape)\n",
    "print(\"Después de remover outliers:\", cotopaxi_df_clean.shape)\n"
   ]
  },
  {
   "cell_type": "code",
   "execution_count": 18,
   "metadata": {},
   "outputs": [
    {
     "data": {
      "image/png": "[encoded data removed]",
      "text/plain": [
       "<Figure size 1200x400 with 2 Axes>"
      ]
     },
     "metadata": {},
     "output_type": "display_data"
    },
    {
     "data": {
      "image/png": "[encoded data removed]",
      "text/plain": [
       "<Figure size 1200x400 with 2 Axes>"
      ]
     },
     "metadata": {},
     "output_type": "display_data"
    },
    {
     "data": {
      "image/png": "[encoded data removed]",
      "text/plain": [
       "<Figure size 1200x400 with 2 Axes>"
      ]
     },
     "metadata": {},
     "output_type": "display_data"
    }
   ],
   "source": [
    "import seaborn as sns\n",
    "import matplotlib.pyplot as plt\n",
    "\n",
    "variables = ['vulnerabilidad_vivienda', 'personas_por_cuarto', 'hacinamiento_score']\n",
    "\n",
    "for var in variables:\n",
    "    fig, axes = plt.subplots(1, 2, figsize=(12, 4))\n",
    "    \n",
    "    sns.boxplot(x=cotopaxi_df[var], ax=axes[0])\n",
    "    axes[0].set_title(f'{var} - Original')\n",
    "\n",
    "    sns.boxplot(x=cotopaxi_df_clean[var], ax=axes[1])\n",
    "    axes[1].set_title(f'{var} - Sin outliers')\n",
    "\n",
    "    plt.tight_layout()\n",
    "    plt.show()\n"
   ]
  },
  {
   "cell_type": "code",
   "execution_count": 38,
   "metadata": {},
   "outputs": [],
   "source": [
    "cotopaxi_df_clean.to_csv('/Users/dicordova/Proyecto-FDS/data/cotopaxi_df_clean.csv', index=False)\n"
   ]
  },
  {
   "cell_type": "markdown",
   "metadata": {},
   "source": [
    "Esta transformación se hizo para: \n",
    "Para resumir vulnerabilidad en 4 niveles simples.\n",
    "\n",
    "Para visualización (gráficos de barras, mapas coropléticos).\n",
    "\n",
    "Para perfilar clusters usando métodos no supervisados."
   ]
  },
  {
   "cell_type": "code",
   "execution_count": 39,
   "metadata": {},
   "outputs": [],
   "source": [
    "import sqlite3\n",
    "import pandas as pd\n",
    "\n",
    "conn = sqlite3.connect('/Users/dicordova/Proyecto-FDS/data/nueva_base.db')\n",
    "\n",
    "cotopaxi_df_clean.to_sql('cotopaxi_df_clean', conn, if_exists='replace', index=False)\n",
    "\n",
    "conn.close()"
   ]
  },
  {
   "cell_type": "code",
   "execution_count": 20,
   "metadata": {},
   "outputs": [],
   "source": [
    "# from sklearn.preprocessing import StandardScaler\n",
    "\n",
    "# # Selecciona las variables que representan vulnerabilidad\n",
    "# variables_cluster = [\n",
    "#     'vulnerabilidad_vivienda',\n",
    "#     'personas_por_cuarto'\n",
    "#     #'hacinamiento_score'\n",
    "# ]\n",
    "\n",
    "# # Escalar los datos\n",
    "# scaler = StandardScaler()\n",
    "# X_scaled = scaler.fit_transform(cotopaxi_df_clean[variables_cluster])\n",
    "# X_scaled  # Muestra las primeras 5 filas del array escalado"
   ]
  },
  {
   "cell_type": "code",
   "execution_count": 21,
   "metadata": {},
   "outputs": [],
   "source": [
    "# cotopaxi_df_clean[variables_cluster]\n",
    "# cotopaxi_df_clean['hacinamiento_score'].value_counts()"
   ]
  },
  {
   "cell_type": "code",
   "execution_count": 22,
   "metadata": {},
   "outputs": [],
   "source": [
    "# X_scaled_df = pd.DataFrame(X_scaled, columns=variables_cluster, index=cotopaxi_df_clean.index)\n"
   ]
  },
  {
   "cell_type": "code",
   "execution_count": 23,
   "metadata": {},
   "outputs": [],
   "source": [
    "# from sklearn.cluster import KMeans\n",
    "\n",
    "# # Inicializa KMeans con 4 clusters\n",
    "# kmeans = KMeans(n_clusters=4, random_state=42, max_iter=300)\n",
    "# kmeans.fit(cotopaxi_df_clean[variables_cluster])\n",
    "# cotopaxi_df_clean['cluster_kmeans'] = kmeans.labels_"
   ]
  },
  {
   "cell_type": "code",
   "execution_count": 24,
   "metadata": {},
   "outputs": [],
   "source": [
    "# #Evaluamos los cluster\n",
    "# cotopaxi_df_clean.groupby('cluster_kmeans')[variables_cluster].mean().round(2)\n"
   ]
  },
  {
   "cell_type": "markdown",
   "metadata": {},
   "source": [
    "Cluster\tVulnerabilidad Vivienda\tPersonas por Cuarto\tInterpretación\n",
    "\n",
    "0\t0.0\t0.73\tVivienda estable, poco hacinamiento ✅\n",
    "\n",
    "1\t2.0\t1.20\tAlta vulnerabilidad en vivienda ⚠️\n",
    "\n",
    "2\t0.0\t1.58\tVivienda buena, pero muy hacinados 🔥\n",
    "\n",
    "3\t1.0\t1.15\tVulnerabilidad media, hacinamiento moderado\n",
    "\n"
   ]
  },
  {
   "cell_type": "code",
   "execution_count": 25,
   "metadata": {},
   "outputs": [],
   "source": [
    "# from sklearn.cluster import AgglomerativeClustering\n",
    "\n",
    "# agglo = AgglomerativeClustering(n_clusters=4)\n",
    "# cotopaxi_df_clean['cluster_agglo'] = agglo.fit_predict(X_scaled)\n"
   ]
  },
  {
   "cell_type": "code",
   "execution_count": 26,
   "metadata": {},
   "outputs": [],
   "source": [
    "# #evaluamos los cluster\n",
    "# cotopaxi_df_clean.groupby('cluster_agglo')[variables_cluster].mean().round(2)\n"
   ]
  },
  {
   "cell_type": "markdown",
   "metadata": {},
   "source": [
    "Cluster\tVulnerabilidad Vivienda\tPersonas por Cuarto\tInterpretación\n",
    "\n",
    "0\t1.13\t1.15\tMixto, media vulnerabilidad 🟠\n",
    "\n",
    "1\t0.00\t1.19\tVivienda buena, hacinamiento leve ✅\n",
    "\n",
    "2\t0.00\t0.55\tVivienda buena, poco hacinamiento 🟢\n",
    "\n",
    "3\t0.00\t2.00\tVivienda buena, pero severamente hacinados 🔴"
   ]
  },
  {
   "cell_type": "code",
   "execution_count": 27,
   "metadata": {},
   "outputs": [],
   "source": [
    "# from sklearn.cluster import MiniBatchKMeans\n",
    "# from sklearn.preprocessing import StandardScaler\n",
    "# from sklearn.decomposition import PCA\n",
    "# import matplotlib.pyplot as plt\n",
    "\n",
    "# # Suponiendo que ya tienes X_scaled (si no, escálalo así):\n",
    "# # scaler = StandardScaler()\n",
    "# # X_scaled = scaler.fit_transform(cotopaxi_df_clean[variables_cluster])\n",
    "\n",
    "# # MiniBatchKMeans con 4 clusters\n",
    "# mb_kmeans = MiniBatchKMeans(n_clusters=4, random_state=42, batch_size=1000)\n",
    "# mb_kmeans.fit(X_scaled)\n",
    "\n",
    "# # Guardamos etiquetas\n",
    "# cotopaxi_df_clean['cluster_minibatch'] = mb_kmeans.labels_\n"
   ]
  },
  {
   "cell_type": "code",
   "execution_count": 28,
   "metadata": {},
   "outputs": [],
   "source": [
    "# #evaluamos los cluster\n",
    "# cotopaxi_df_clean.groupby('cluster_minibatch')[variables_cluster].mean().round(2)"
   ]
  },
  {
   "cell_type": "markdown",
   "metadata": {},
   "source": [
    "Cluster\tVulnerabilidad Vivienda\tPersonas por Cuarto\tInterpretación resumida\n",
    "\n",
    "0\t1.50\t1.82\tAlta vulnerabilidad y hacinamiento grave 🔥\n",
    "\n",
    "1\t0.00\t1.32\tVivienda adecuada, pero con cierto hacinamiento ⚠️\n",
    "\n",
    "2\t1.09\t1.08\tVulnerabilidad media, hacinamiento moderado 🟠\n",
    "\n",
    "3\t0.00\t0.55\tVivienda adecuada y poco hacinamiento ✅"
   ]
  },
  {
   "cell_type": "markdown",
   "metadata": {},
   "source": [
    "Cluster 0 probablemente concentra a las familias en mayor situación de riesgo: malas condiciones de vivienda y muchas personas por cuarto.\n",
    "\n",
    "Cluster 3 parece ser el más seguro o resiliente.\n",
    "\n",
    "Cluster 1 muestra hacinamiento con vivienda aceptable, algo interesante: podrían ser hogares informales o con dinámicas familiares complejas.\n",
    "\n",
    "Cluster 2 está en el centro, un mix."
   ]
  },
  {
   "cell_type": "code",
   "execution_count": 29,
   "metadata": {},
   "outputs": [],
   "source": [
    "# from sklearn.decomposition import PCA\n",
    "# import matplotlib.pyplot as plt\n",
    "\n",
    "# # Reducimos a 2 dimensiones para graficar\n",
    "# pca = PCA(n_components=2)\n",
    "# X_pca = pca.fit_transform(X_scaled)\n",
    "\n",
    "# # Añadir coordenadas PCA al DataFrame para trazarlos\n",
    "# cotopaxi_df_clean['PCA1'] = X_pca[:, 0]\n",
    "# cotopaxi_df_clean['PCA2'] = X_pca[:, 1]\n"
   ]
  },
  {
   "cell_type": "code",
   "execution_count": 30,
   "metadata": {},
   "outputs": [],
   "source": [
    "# plt.figure(figsize=(8,6))\n",
    "# plt.scatter(cotopaxi_df_clean['PCA1'], cotopaxi_df_clean['PCA2'], \n",
    "#             c=cotopaxi_df_clean['cluster_kmeans'], cmap='viridis', s=50)\n",
    "# plt.title('Clusters KMeans')\n",
    "# plt.xlabel('PCA1')\n",
    "# plt.ylabel('PCA2')\n",
    "# plt.grid(True)\n",
    "# plt.show()\n"
   ]
  },
  {
   "cell_type": "markdown",
   "metadata": {},
   "source": [
    "Del gráfico podemos concluir: \n",
    "Cuando hago PCA, estoy transformando mis datos multivariados a un nuevo sisstema de coordinadas, que resume la mayor cantidad de variabilidad en pocas dimensiones. Aquí se indica que los clusters están bien separados en el espacio PCA, es decir no hay solapación en los grupos. Hay una estructural natural en los grupos que Kmeans parece haber capturado bien. \n",
    "\n",
    "Esto puede deberse gracias a que: \n",
    "Las variables tienen una relación continua (como pobreza o hacinamiento) o cuando hay un patrón jerárquico entre observaciones"
   ]
  },
  {
   "cell_type": "code",
   "execution_count": 31,
   "metadata": {},
   "outputs": [],
   "source": [
    "# plt.figure(figsize=(8,6))\n",
    "# plt.scatter(cotopaxi_df_clean['PCA1'], cotopaxi_df_clean['PCA2'], \n",
    "#             c=cotopaxi_df_clean['cluster_agglo'], cmap='plasma', s=50)\n",
    "# plt.title('Clusters Agglomerative')\n",
    "# plt.xlabel('PCA1')\n",
    "# plt.ylabel('PCA2')\n",
    "# plt.grid(True)\n",
    "# plt.show()\n"
   ]
  },
  {
   "cell_type": "markdown",
   "metadata": {},
   "source": [
    "Del gráfico podemos concluir que: \n",
    "Los clusters están más desequilibrados comparados con los de KMeans\n",
    "\n",
    "Un color (azul oscuro) parece agrupar a la mayoría de los puntos. Otros clusters (amarillo brillante, morado, rosado) tienen muy pocos elementos. El cluster amarillo parece ser un outlier solitario → probablemente una observación única y muy distinta.\n",
    "\n",
    "Tiende a formar clusters jerárquicos, lo que a veces agrupa muchos puntos en uno grande y deja pocos pequeños.\n",
    "\n",
    "Es sensible a la escala y a la densidad"
   ]
  },
  {
   "cell_type": "code",
   "execution_count": 32,
   "metadata": {},
   "outputs": [],
   "source": [
    "# # Reducimos a 2D para graficar\n",
    "# pca = PCA(n_components=2)\n",
    "# X_pca = pca.fit_transform(X_scaled)\n",
    "\n",
    "# cotopaxi_df_clean['PCA1'] = X_pca[:, 0]\n",
    "# cotopaxi_df_clean['PCA2'] = X_pca[:, 1]\n",
    "\n",
    "# # Plot\n",
    "# plt.figure(figsize=(8,6))\n",
    "# plt.scatter(cotopaxi_df_clean['PCA1'], cotopaxi_df_clean['PCA2'],\n",
    "#             c=cotopaxi_df_clean['cluster_minibatch'], cmap='tab10', s=50)\n",
    "# plt.title('Clusters con MiniBatch KMeans')\n",
    "# plt.xlabel('PCA1')\n",
    "# plt.ylabel('PCA2')\n",
    "# plt.grid(True)\n",
    "# plt.show()\n"
   ]
  },
  {
   "cell_type": "markdown",
   "metadata": {},
   "source": [
    "Del gráfico podemos concluir que: \n",
    "\n",
    "Visualmente, puedes decir que hay al menos 4 poblaciones distintas en cuanto a vulnerabilidad (por ejemplo: alto hacinamiento y mala vivienda vs. baja vulnerabilidad)."
   ]
  },
  {
   "cell_type": "code",
   "execution_count": 33,
   "metadata": {},
   "outputs": [],
   "source": [
    "# mapa_labels = {\n",
    "#     0: 'Crítico',\n",
    "#     1: 'Moderado: hacinamiento con vivienda adecuada',\n",
    "#     2: 'Vulnerabilidad media',\n",
    "#     3: 'Condiciones adecuadas'\n",
    "# }\n"
   ]
  },
  {
   "cell_type": "code",
   "execution_count": 34,
   "metadata": {},
   "outputs": [],
   "source": [
    "# cotopaxi_df_clean['perfil_minibatch'] = cotopaxi_df_clean['cluster_minibatch'].map(mapa_labels)\n"
   ]
  },
  {
   "cell_type": "code",
   "execution_count": 35,
   "metadata": {},
   "outputs": [],
   "source": [
    "# cotopaxi_df_clean['perfil_minibatch'].value_counts()\n"
   ]
  },
  {
   "cell_type": "code",
   "execution_count": 36,
   "metadata": {},
   "outputs": [],
   "source": [
    "# import matplotlib.pyplot as plt\n",
    "\n",
    "# # Contar cuántos hay por perfil\n",
    "# conteo_perfiles = cotopaxi_df_clean['perfil_minibatch'].value_counts()\n",
    "\n",
    "# # Crear gráfico de barras\n",
    "# plt.figure(figsize=(10,6))\n",
    "# conteo_perfiles.plot(kind='bar', color='skyblue', edgecolor='black')\n",
    "\n",
    "# plt.title('Distribución de Perfiles de Vulnerabilidad (MiniBatchKMeans)', fontsize=14)\n",
    "# plt.xlabel('Perfil de Vulnerabilidad', fontsize=12)\n",
    "# plt.ylabel('Número de Observaciones', fontsize=12)\n",
    "# plt.xticks(rotation=45, ha='right')\n",
    "# plt.grid(axis='y', linestyle='--', alpha=0.7)\n",
    "\n",
    "# plt.tight_layout()\n",
    "# plt.show()\n"
   ]
  },
  {
   "cell_type": "markdown",
   "metadata": {},
   "source": [
    "Al comparar los tres modelos parece ser mejor al MiniBatchKmeans. En este caso no tenemos métricas como en los modelos de regresión, sin embargo este modelo nos permite: \n",
    "Escalar a millones de datos (necesario, dado que el censo tienen al menos 3millones de datos para las 5 provincias que están involucradas)\n",
    "\n",
    "Identifica poblaciones altamente vulnerables al detectar los perfiles de cluster como el número de personas por habitación o vulnerabilidades de vivienda. \n",
    "\n",
    "Sin embargo, el modelo de Agglomerative mostró sensibilidad ante los outliers. Es decir, podría ser usado en muestras de datos más pequeñas que permitan reafinar perfiles e identificar la vulnerabilidad por zonas geográficas más pequeñas. Es decir, en lugar de decir \"la provincia de Cotopaxi es vulnerable\" podemos decir, la Provincia de Cotopaxi, en la ciudad de Latacunga y su cantón X tiene una granconcentración de viviendas/hogares vulnerables\" lo que es precisamente más útil al momento de diseñar política pública. \n",
    "\n",
    "Esto es importante tomar en cuenta para poder hacer un mapeo de los clusters. Algo que podría hacerse en un paso posterior. "
   ]
  },
  {
   "cell_type": "markdown",
   "metadata": {},
   "source": []
  }
 ],
 "metadata": {
  "kernelspec": {
   "display_name": "DataScience",
   "language": "python",
   "name": "python3"
  },
  "language_info": {
   "codemirror_mode": {
    "name": "ipython",
    "version": 3
   },
   "file_extension": ".py",
   "mimetype": "text/x-python",
   "name": "python",
   "nbconvert_exporter": "python",
   "pygments_lexer": "ipython3",
   "version": "3.12.9"
  }
 },
 "nbformat": 4,
 "nbformat_minor": 2
}
